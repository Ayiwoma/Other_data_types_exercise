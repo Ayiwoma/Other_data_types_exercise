{
 "cells": [
  {
   "cell_type": "markdown",
   "metadata": {},
   "source": [
    "# XML exercise"
   ]
  },
  {
   "cell_type": "markdown",
   "metadata": {},
   "source": [
    "Using data from [**mondial database**](https://drive.google.com/file/d/14lFT4nWHgwN36ij4XZh6OUuup-K9qLgR/view?usp=sharing) find the answers to following questions:\n",
    "\n",
    "1. 10 countries with the lowest infant mortality rates\n",

            Country  InfantMortalityRate
36           Monaco                 1.81
90            Japan                 2.13
109         Bermuda                 2.48
34           Norway                 2.48
98        Singapore                 2.53
35           Sweden                 2.60
8    Czech Republic                 2.63
6             Spain                 2.70
72        Hong Kong                 2.73
73            Macao                 3.13

    "2. 10 cities with the largest population\n",

                City  Population
144            Seoul    10229262
102        Hong Kong     7055071
133       Al Qahirah     6053000
72           Bangkok     5876000
145            Busan     3813814
184       New Taipei     3722082
132  Al Iskandariyah     2917000
183           Taipei     2626138
146            Daegu     2449139
81         Pyongyang     2335000


    "3. name and country of a) longest river, b) largest lake and c) airport at highest elevation"

a)The longest river is Yangtze located in CN

b)The largest lake is Caspian Sea located in R AZ KAZ IR TM

c)The airport at the highest elevation is El Alto Intl located in BOL
   ]
  },
  {
   "cell_type": "code",
   "execution_count": null,
   "metadata": {},
   "outputs": [],
   "source": []
  }
 ],
 "metadata": {
  "anaconda-cloud": {},
  "kernelspec": {
   "display_name": "Python 3",
   "language": "python",
   "name": "python3"
  },
  "language_info": {
   "codemirror_mode": {
    "name": "ipython",
    "version": 3
   },
   "file_extension": ".py",
   "mimetype": "text/x-python",
   "name": "python",
   "nbconvert_exporter": "python",
   "pygments_lexer": "ipython3",
   "version": "3.7.6"
  }
 },
 "nbformat": 4,
 "nbformat_minor": 4
}
